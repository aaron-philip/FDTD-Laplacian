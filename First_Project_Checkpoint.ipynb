{
 "cells": [
  {
   "cell_type": "markdown",
   "metadata": {},
   "source": [
    "# First Project Checkpoint\n",
    "\n",
    "The purpose of this assignment is to make sure that everyone is on track to finish their project on time. To that end, you will need to submit a short document or notebook that specifies two critical components of your project: \n",
    "\n",
    "1. Your research question \n",
    "2. The resources that you will use to answer your research question\n",
    "\n",
    "\n",
    "## 1. Research Question \n",
    "\n",
    "When defining a research question for this project, it is recommended that **you look for something you are somewhat comfortable with.** If you are in your third or fourth year and you've taken several major-specific courses, then you could do something related to your major. Otherwise, you may want to draw from the topics we've covered in class. \n",
    "\n",
    "### Example research questions\n",
    "1. How much will sea levels change in the Indian Ocean over the next 100 years?\n",
    "2. What is the basic reproduction number ($R$) of Covid-19, extrapolated from infections in Michigan?\n",
    "3. How does the gravitational interaction between a star and a planet cause the star to “Wobble” and how do astronomers use this to detect Exoplanets?\n",
    "\n",
    "## 2. Resources You Will Use\n",
    "\n",
    "To answer your research question, you will need to use one or more outside resources. \n",
    "\n",
    "If your project incorporates data analysis, you should **link to the specific datasets you will be using and provide an example dataset.**\n",
    "\n",
    "- For example, if I were going to model temperature variations in East Lansing, I would include a link to the [NOAA website](https://www.ncdc.noaa.gov/cdo-web/datatools/lcd) I used to find my data and an example dataset (included in this assignment).\n",
    "\n",
    "\n",
    "If your project incorporates computational modeling, you should **link to, or provide a copy of, the website/paper/book/etc. that explains the model you’ll use.**\n",
    "- For example, if I was going to model epidemics using something like the SIR model we talked about in class, but I wanted to include underlying population growth, I might use resources like [this paper on epidemiological modeling](https://www.alessandro-giua.it/UNICA/ACCPS/material/Hethcote_2000.pdf)."
   ]
  },
  {
   "cell_type": "markdown",
   "metadata": {},
   "source": [
    "# Example Submission\n",
    "\n",
    "## Research Question \n",
    "\n",
    "#### “What are the odds the Detroit Lions will beat the Green Bay Packers on December 13th?”\n",
    "\n",
    "\n",
    "## Resources \n",
    "- I will construct an Elo Model in Python, which will be based on the [code provided here.](https://www.kaggle.com/kplauritzen/elo-ratings-in-python) \n",
    "- After I’ve built my Elo model, I will use the [win-loss record of the two teams](https://www.footballdb.com/games/index.html) to make a prediction about the specific game on December 13th. The specific dataset I will use is included in my submission, titled *\"Example_Football_Dataset.csv\".*"
   ]
  },
  {
   "cell_type": "markdown",
   "metadata": {},
   "source": [
    "# What you will Submit\n",
    "\n",
    "### - A single document, either a PDF or a ipynb notebook.\n",
    "### - The document must contain:\n",
    "#### 1. Your name: Aaron Philip \n",
    "#### 2. Your section: 004: Hamerski\n",
    "#### 3. Your research question\n",
    "#### 4. Links to any resources you will use and a brief description of how you will use them.\n",
    "### - If you plan on using data, you must also submit *the specific dataset* that you will be using. It should be either a CSV or Excel (.xlsx) file. \n"
   ]
  },
  {
   "cell_type": "markdown",
   "metadata": {},
   "source": [
    "**Your name:** Aaron Philip \n",
    "\n",
    "**Your section:\"** 004 Hamerski\n",
    "\n",
    "**Research Question** Can I simulate a heat distribution over time in a 3D space using finite difference methods as long as I know the initial distribution and use Neumann insulated boundary conditions (no heat leaves the space but may be reflected back into the box)?\n",
    "\n",
    "**Relevant Resources:** The following gives a good background of the Heat Equation in 3D: \n",
    "\n",
    "https://tutorial.math.lamar.edu/classes/de/theheatequation.aspx, \n",
    "\n",
    "https://personal.math.ubc.ca/~peirce/M257_316_2012_Lecture_8.pdf, \n",
    "\n",
    "https://jmahaffy.sdsu.edu/courses/s17/math531/beamer/heat.pdf.\n",
    "\n",
    "Finite Difference methods are robust numerical methods at describing derivatives accurately under certain step-size bottlenecks. This resource describes the Taylor derivation and how to calculate up to arbitrary order (I will need 2nd order): https://www.dam.brown.edu/people/alcyew/handouts/numdiff.pdf\n",
    "\n",
    "I will use the tools we have learned in class (eg. iteration, numpy arrays, scipy initial value problem solvation) to integrate the box forward in time. By the end of the project, I should have a solver for any distribution of heat under any size constraints (user can choose the box size, but resolution will be fixed to avoid significant numerical error). I intend to use Neumann insulating boundary conditions as a simplifying assumption.\n",
    "\n",
    "These will be highly costly simulations that will scale O(n^3) where n in this case denotes the length of the box. The goal of the second project (Honors option) will be to use ML to potentially subvert the computational bottleneck significantly. "
   ]
  },
  {
   "cell_type": "code",
   "execution_count": null,
   "metadata": {},
   "outputs": [],
   "source": []
  }
 ],
 "metadata": {
  "kernelspec": {
   "display_name": "Python 3",
   "language": "python",
   "name": "python3"
  },
  "language_info": {
   "codemirror_mode": {
    "name": "ipython",
    "version": 3
   },
   "file_extension": ".py",
   "mimetype": "text/x-python",
   "name": "python",
   "nbconvert_exporter": "python",
   "pygments_lexer": "ipython3",
   "version": "3.8.8"
  }
 },
 "nbformat": 4,
 "nbformat_minor": 4
}
